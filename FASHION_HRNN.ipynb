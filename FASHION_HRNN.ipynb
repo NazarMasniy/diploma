{
  "nbformat": 4,
  "nbformat_minor": 0,
  "metadata": {
    "colab": {
      "name": "FASHION_HRNN.ipynb",
      "provenance": []
    },
    "kernelspec": {
      "name": "python3",
      "display_name": "Python 3"
    },
    "language_info": {
      "name": "python"
    }
  },
  "cells": [
    {
      "cell_type": "code",
      "execution_count": null,
      "metadata": {
        "id": "j-mSMCPpPgpE"
      },
      "outputs": [],
      "source": [
        "from __future__ import print_function\n",
        "import keras\n",
        "from tensorflow.keras.datasets import fashion_mnist\n",
        "from keras.models import Model\n",
        "from keras.layers import Input, Dense, TimeDistributed\n",
        "from keras.layers import LSTM\n",
        "from tensorflow.keras.utils import to_categorical"
      ]
    },
    {
      "cell_type": "code",
      "source": [
        "batch_size = 50\n",
        "num_classes = 10\n",
        "epochs = 5\n",
        "row_hidden = 128\n",
        "col_hidden = 128\n",
        "\n",
        "(x_train, y_train), (x_test, y_test) = fashion_mnist.load_data()"
      ],
      "metadata": {
        "id": "ghLZJvbkPjd4",
        "colab": {
          "base_uri": "https://localhost:8080/"
        },
        "outputId": "abedcb9a-ff48-4501-b4da-02b2c119058b"
      },
      "execution_count": null,
      "outputs": [
        {
          "output_type": "stream",
          "name": "stdout",
          "text": [
            "Downloading data from https://storage.googleapis.com/tensorflow/tf-keras-datasets/train-labels-idx1-ubyte.gz\n",
            "32768/29515 [=================================] - 0s 0us/step\n",
            "40960/29515 [=========================================] - 0s 0us/step\n",
            "Downloading data from https://storage.googleapis.com/tensorflow/tf-keras-datasets/train-images-idx3-ubyte.gz\n",
            "26427392/26421880 [==============================] - 0s 0us/step\n",
            "26435584/26421880 [==============================] - 0s 0us/step\n",
            "Downloading data from https://storage.googleapis.com/tensorflow/tf-keras-datasets/t10k-labels-idx1-ubyte.gz\n",
            "16384/5148 [===============================================================================================] - 0s 0us/step\n",
            "Downloading data from https://storage.googleapis.com/tensorflow/tf-keras-datasets/t10k-images-idx3-ubyte.gz\n",
            "4423680/4422102 [==============================] - 0s 0us/step\n",
            "4431872/4422102 [==============================] - 0s 0us/step\n"
          ]
        }
      ]
    },
    {
      "cell_type": "code",
      "source": [
        "x_train = x_train.reshape(x_train.shape[0], 28, 28, 1)\n",
        "x_test = x_test.reshape(x_test.shape[0], 28, 28, 1)\n",
        "x_train = x_train.astype('float32')\n",
        "x_test = x_test.astype('float32')\n",
        "x_train /= 255\n",
        "x_test /= 255\n",
        "print('x_train shape:', x_train.shape)\n",
        "print(x_train.shape[0], 'train samples')\n",
        "print(x_test.shape[0], 'test samples')\n",
        "\n",
        "y_train = to_categorical(y_train, num_classes)\n",
        "y_test = to_categorical(y_test, num_classes)"
      ],
      "metadata": {
        "colab": {
          "base_uri": "https://localhost:8080/"
        },
        "id": "0r7gfzXjPjbJ",
        "outputId": "737615a9-4e79-485c-bd2a-9d5064e5aa08"
      },
      "execution_count": null,
      "outputs": [
        {
          "output_type": "stream",
          "name": "stdout",
          "text": [
            "x_train shape: (60000, 28, 28, 1)\n",
            "60000 train samples\n",
            "10000 test samples\n"
          ]
        }
      ]
    },
    {
      "cell_type": "code",
      "source": [
        "row, col, pixel = x_train.shape[1:]\n",
        "\n",
        "x = Input(shape=(row, col, pixel))\n",
        "\n",
        "encoded_rows = TimeDistributed(LSTM(row_hidden))(x)\n",
        "encoded_columns = LSTM(col_hidden)(encoded_rows)"
      ],
      "metadata": {
        "id": "brIQMe58PjPR"
      },
      "execution_count": null,
      "outputs": []
    },
    {
      "cell_type": "code",
      "source": [
        "prediction = Dense(num_classes, activation='softmax')(encoded_columns)\n",
        "model = Model(x, prediction)\n",
        "model.compile(loss='categorical_crossentropy',\n",
        "              optimizer='rmsprop',\n",
        "              metrics=['accuracy'])"
      ],
      "metadata": {
        "id": "HkwpVYXdPjMX"
      },
      "execution_count": null,
      "outputs": []
    },
    {
      "cell_type": "code",
      "source": [
        "model.fit(x_train, y_train,\n",
        "          batch_size=batch_size,\n",
        "          epochs=epochs,\n",
        "          verbose=1,\n",
        "          validation_data=(x_test, y_test))"
      ],
      "metadata": {
        "colab": {
          "base_uri": "https://localhost:8080/"
        },
        "id": "YtNHX3gAPjJ-",
        "outputId": "1c34c11a-1d0d-4b1a-e58c-c1241fa9d475"
      },
      "execution_count": null,
      "outputs": [
        {
          "output_type": "stream",
          "name": "stdout",
          "text": [
            "Epoch 1/5\n",
            "1200/1200 [==============================] - 740s 612ms/step - loss: 0.7609 - accuracy: 0.7194 - val_loss: 0.5106 - val_accuracy: 0.8133\n",
            "Epoch 2/5\n",
            "1200/1200 [==============================] - 734s 612ms/step - loss: 0.4574 - accuracy: 0.8320 - val_loss: 0.4069 - val_accuracy: 0.8487\n",
            "Epoch 3/5\n",
            "1200/1200 [==============================] - 736s 613ms/step - loss: 0.3826 - accuracy: 0.8573 - val_loss: 0.3970 - val_accuracy: 0.8530\n",
            "Epoch 4/5\n",
            "1200/1200 [==============================] - 729s 607ms/step - loss: 0.3425 - accuracy: 0.8732 - val_loss: 0.3437 - val_accuracy: 0.8715\n",
            "Epoch 5/5\n",
            "1200/1200 [==============================] - 731s 609ms/step - loss: 0.3145 - accuracy: 0.8834 - val_loss: 0.3264 - val_accuracy: 0.8809\n"
          ]
        },
        {
          "output_type": "execute_result",
          "data": {
            "text/plain": [
              "<keras.callbacks.History at 0x7fc20dbbe790>"
            ]
          },
          "metadata": {},
          "execution_count": 6
        }
      ]
    },
    {
      "cell_type": "code",
      "source": [
        "scores = model.evaluate(x_test, y_test, verbose=0)\n",
        "print('Test loss:', scores[0])\n",
        "print('Test accuracy:', scores[1])"
      ],
      "metadata": {
        "id": "uSlJ1qG3PjCK",
        "colab": {
          "base_uri": "https://localhost:8080/"
        },
        "outputId": "b2a2e34e-43e3-451f-cdd2-ca0f4d014361"
      },
      "execution_count": null,
      "outputs": [
        {
          "output_type": "stream",
          "name": "stdout",
          "text": [
            "Test loss: 0.32635459303855896\n",
            "Test accuracy: 0.8809000253677368\n"
          ]
        }
      ]
    }
  ]
}