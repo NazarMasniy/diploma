{
  "cells": [
    {
      "cell_type": "code",
      "source": [
        "from keras.datasets import mnist\n",
        "(train_images, train_labels), (test_images, test_labels) = mnist.load_data()"
      ],
      "metadata": {
        "id": "8bPBp2xFpRbo"
      },
      "execution_count": null,
      "outputs": []
    },
    {
      "cell_type": "code",
      "source": [
        "import matplotlib.pyplot as plt\n",
        "plt.gray()\n",
        "plt.imshow(train_images[10])\n",
        "train_labels[10]"
      ],
      "metadata": {
        "id": "RixNIrYmpUcY"
      },
      "execution_count": null,
      "outputs": []
    },
    {
      "cell_type": "code",
      "source": [
        "from keras import models\n",
        "from keras import layers\n",
        "model_cnn = models.Sequential()\n",
        "model_cnn.add(layers.Conv2D(32, (3,3), activation='relu', input_shape=(28,28,1)))\n",
        "model_cnn.add(layers.MaxPooling2D(2,2))\n",
        "model_cnn.add(layers.Conv2D(64, (3,3), activation = 'relu'))\n",
        "model_cnn.add(layers.MaxPooling2D(2,2))\n",
        "model_cnn.add(layers.Conv2D(64, (3,3), activation='relu'))\n",
        "model_cnn.add(layers.Flatten())\n",
        "model_cnn.add(layers.Dense(64, activation = 'relu'))\n",
        "model_cnn.add(layers.Dense(10, activation = 'softmax'))\n",
        "model_cnn.summary()"
      ],
      "metadata": {
        "id": "Gqbz3QsxpaY_"
      },
      "execution_count": null,
      "outputs": []
    },
    {
      "cell_type": "code",
      "source": [
        "train_images.shape\n",
        "train_images_cnn = train_images.reshape(60000, 28, 28, 1)\n",
        "train_images_cnn.shape\n",
        "train_images_cnn = train_images_cnn.astype('float32') / 255\n",
        "test_images_cnn = test_images.reshape(10000, 28, 28, 1)\n",
        "test_images_cnn = test_images_cnn.astype('float32') / 255"
      ],
      "metadata": {
        "id": "8jeja1GxpxD0"
      },
      "execution_count": null,
      "outputs": []
    },
    {
      "cell_type": "code",
      "source": [
        "from tensorflow.keras.utils import to_categorical\n",
        "train_labels_cnn = to_categorical(train_labels)\n",
        "test_labels_cnn = to_categorical(test_labels)\n",
        "model_cnn.compile(optimizer='rmsprop', loss='categorical_crossentropy', metrics=['accuracy'])"
      ],
      "metadata": {
        "id": "KcLQl66op8pN"
      },
      "execution_count": null,
      "outputs": []
    },
    {
      "cell_type": "code",
      "source": [
        "model_cnn.fit(train_images_cnn, train_labels_cnn, epochs = 10, batch_size = 60)\n",
        "test_loss_cnn, test_acc_cnn = model_cnn.evaluate(test_images_cnn, test_labels_cnn)\n",
        "print('Test accuracy:', (test_acc_cnn * 100))"
      ],
      "metadata": {
        "id": "xotakahiqCiI"
      },
      "execution_count": null,
      "outputs": []
    },
    {
      "cell_type": "code",
      "source": [
        ""
      ],
      "metadata": {
        "id": "PZiJTplhq8Ur"
      },
      "execution_count": null,
      "outputs": []
    }
  ],
  "metadata": {
    "@webio": {
      "lastCommId": null,
      "lastKernelId": null
    },
    "kernelspec": {
      "display_name": "Python 3",
      "language": "python",
      "name": "python3"
    },
    "language_info": {
      "codemirror_mode": {
        "name": "ipython",
        "version": 3
      },
      "file_extension": ".py",
      "mimetype": "text/x-python",
      "name": "python",
      "nbconvert_exporter": "python",
      "pygments_lexer": "ipython3",
      "version": "3.7.3"
    },
    "colab": {
      "name": "MNIST_CNN.ipynb",
      "provenance": []
    }
  },
  "nbformat": 4,
  "nbformat_minor": 0
}